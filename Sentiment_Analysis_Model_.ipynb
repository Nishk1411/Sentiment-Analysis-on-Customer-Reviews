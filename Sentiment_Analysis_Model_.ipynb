{
 "cells": [
  {
   "cell_type": "markdown",
   "id": "e660bf12-13c6-4361-925c-2cb4440b5431",
   "metadata": {},
   "source": [
    "## Installing and Importing packages"
   ]
  },
  {
   "cell_type": "code",
   "execution_count": 1,
   "id": "f81ecd25-c836-4605-a2c8-b236e3768ebc",
   "metadata": {
    "scrolled": true
   },
   "outputs": [
    {
     "name": "stdout",
     "output_type": "stream",
     "text": [
      "Requirement already satisfied: tf-keras in c:\\users\\aadit\\appdata\\local\\programs\\python\\python312\\lib\\site-packages (2.18.0)\n",
      "Requirement already satisfied: tensorflow<2.19,>=2.18 in c:\\users\\aadit\\appdata\\local\\programs\\python\\python312\\lib\\site-packages (from tf-keras) (2.18.0)\n",
      "Requirement already satisfied: tensorflow-intel==2.18.0 in c:\\users\\aadit\\appdata\\local\\programs\\python\\python312\\lib\\site-packages (from tensorflow<2.19,>=2.18->tf-keras) (2.18.0)\n",
      "Requirement already satisfied: absl-py>=1.0.0 in c:\\users\\aadit\\appdata\\local\\programs\\python\\python312\\lib\\site-packages (from tensorflow-intel==2.18.0->tensorflow<2.19,>=2.18->tf-keras) (2.1.0)\n",
      "Requirement already satisfied: astunparse>=1.6.0 in c:\\users\\aadit\\appdata\\local\\programs\\python\\python312\\lib\\site-packages (from tensorflow-intel==2.18.0->tensorflow<2.19,>=2.18->tf-keras) (1.6.3)\n",
      "Requirement already satisfied: flatbuffers>=24.3.25 in c:\\users\\aadit\\appdata\\local\\programs\\python\\python312\\lib\\site-packages (from tensorflow-intel==2.18.0->tensorflow<2.19,>=2.18->tf-keras) (24.12.23)\n",
      "Requirement already satisfied: gast!=0.5.0,!=0.5.1,!=0.5.2,>=0.2.1 in c:\\users\\aadit\\appdata\\local\\programs\\python\\python312\\lib\\site-packages (from tensorflow-intel==2.18.0->tensorflow<2.19,>=2.18->tf-keras) (0.6.0)\n",
      "Requirement already satisfied: google-pasta>=0.1.1 in c:\\users\\aadit\\appdata\\local\\programs\\python\\python312\\lib\\site-packages (from tensorflow-intel==2.18.0->tensorflow<2.19,>=2.18->tf-keras) (0.2.0)\n",
      "Requirement already satisfied: libclang>=13.0.0 in c:\\users\\aadit\\appdata\\local\\programs\\python\\python312\\lib\\site-packages (from tensorflow-intel==2.18.0->tensorflow<2.19,>=2.18->tf-keras) (18.1.1)\n",
      "Requirement already satisfied: opt-einsum>=2.3.2 in c:\\users\\aadit\\appdata\\local\\programs\\python\\python312\\lib\\site-packages (from tensorflow-intel==2.18.0->tensorflow<2.19,>=2.18->tf-keras) (3.4.0)\n",
      "Requirement already satisfied: packaging in c:\\users\\aadit\\appdata\\local\\programs\\python\\python312\\lib\\site-packages (from tensorflow-intel==2.18.0->tensorflow<2.19,>=2.18->tf-keras) (24.2)\n",
      "Requirement already satisfied: protobuf!=4.21.0,!=4.21.1,!=4.21.2,!=4.21.3,!=4.21.4,!=4.21.5,<6.0.0dev,>=3.20.3 in c:\\users\\aadit\\appdata\\local\\programs\\python\\python312\\lib\\site-packages (from tensorflow-intel==2.18.0->tensorflow<2.19,>=2.18->tf-keras) (5.29.3)\n",
      "Requirement already satisfied: requests<3,>=2.21.0 in c:\\users\\aadit\\appdata\\local\\programs\\python\\python312\\lib\\site-packages (from tensorflow-intel==2.18.0->tensorflow<2.19,>=2.18->tf-keras) (2.32.3)\n",
      "Requirement already satisfied: setuptools in c:\\users\\aadit\\appdata\\local\\programs\\python\\python312\\lib\\site-packages (from tensorflow-intel==2.18.0->tensorflow<2.19,>=2.18->tf-keras) (75.8.0)\n",
      "Requirement already satisfied: six>=1.12.0 in c:\\users\\aadit\\appdata\\local\\programs\\python\\python312\\lib\\site-packages (from tensorflow-intel==2.18.0->tensorflow<2.19,>=2.18->tf-keras) (1.17.0)\n",
      "Requirement already satisfied: termcolor>=1.1.0 in c:\\users\\aadit\\appdata\\local\\programs\\python\\python312\\lib\\site-packages (from tensorflow-intel==2.18.0->tensorflow<2.19,>=2.18->tf-keras) (2.5.0)\n",
      "Requirement already satisfied: typing-extensions>=3.6.6 in c:\\users\\aadit\\appdata\\local\\programs\\python\\python312\\lib\\site-packages (from tensorflow-intel==2.18.0->tensorflow<2.19,>=2.18->tf-keras) (4.12.2)\n",
      "Requirement already satisfied: wrapt>=1.11.0 in c:\\users\\aadit\\appdata\\local\\programs\\python\\python312\\lib\\site-packages (from tensorflow-intel==2.18.0->tensorflow<2.19,>=2.18->tf-keras) (1.17.0)\n",
      "Requirement already satisfied: grpcio<2.0,>=1.24.3 in c:\\users\\aadit\\appdata\\local\\programs\\python\\python312\\lib\\site-packages (from tensorflow-intel==2.18.0->tensorflow<2.19,>=2.18->tf-keras) (1.69.0)\n",
      "Requirement already satisfied: tensorboard<2.19,>=2.18 in c:\\users\\aadit\\appdata\\local\\programs\\python\\python312\\lib\\site-packages (from tensorflow-intel==2.18.0->tensorflow<2.19,>=2.18->tf-keras) (2.18.0)\n",
      "Requirement already satisfied: keras>=3.5.0 in c:\\users\\aadit\\appdata\\local\\programs\\python\\python312\\lib\\site-packages (from tensorflow-intel==2.18.0->tensorflow<2.19,>=2.18->tf-keras) (3.8.0)\n",
      "Requirement already satisfied: numpy<2.1.0,>=1.26.0 in c:\\users\\aadit\\appdata\\local\\programs\\python\\python312\\lib\\site-packages (from tensorflow-intel==2.18.0->tensorflow<2.19,>=2.18->tf-keras) (1.26.4)\n",
      "Requirement already satisfied: h5py>=3.11.0 in c:\\users\\aadit\\appdata\\local\\programs\\python\\python312\\lib\\site-packages (from tensorflow-intel==2.18.0->tensorflow<2.19,>=2.18->tf-keras) (3.12.1)\n",
      "Requirement already satisfied: ml-dtypes<0.5.0,>=0.4.0 in c:\\users\\aadit\\appdata\\local\\programs\\python\\python312\\lib\\site-packages (from tensorflow-intel==2.18.0->tensorflow<2.19,>=2.18->tf-keras) (0.4.1)\n",
      "Requirement already satisfied: wheel<1.0,>=0.23.0 in c:\\users\\aadit\\appdata\\local\\programs\\python\\python312\\lib\\site-packages (from astunparse>=1.6.0->tensorflow-intel==2.18.0->tensorflow<2.19,>=2.18->tf-keras) (0.45.1)\n",
      "Requirement already satisfied: rich in c:\\users\\aadit\\appdata\\local\\programs\\python\\python312\\lib\\site-packages (from keras>=3.5.0->tensorflow-intel==2.18.0->tensorflow<2.19,>=2.18->tf-keras) (13.9.4)\n",
      "Requirement already satisfied: namex in c:\\users\\aadit\\appdata\\local\\programs\\python\\python312\\lib\\site-packages (from keras>=3.5.0->tensorflow-intel==2.18.0->tensorflow<2.19,>=2.18->tf-keras) (0.0.8)\n",
      "Requirement already satisfied: optree in c:\\users\\aadit\\appdata\\local\\programs\\python\\python312\\lib\\site-packages (from keras>=3.5.0->tensorflow-intel==2.18.0->tensorflow<2.19,>=2.18->tf-keras) (0.13.1)\n",
      "Requirement already satisfied: charset-normalizer<4,>=2 in c:\\users\\aadit\\appdata\\local\\programs\\python\\python312\\lib\\site-packages (from requests<3,>=2.21.0->tensorflow-intel==2.18.0->tensorflow<2.19,>=2.18->tf-keras) (3.4.1)\n",
      "Requirement already satisfied: idna<4,>=2.5 in c:\\users\\aadit\\appdata\\local\\programs\\python\\python312\\lib\\site-packages (from requests<3,>=2.21.0->tensorflow-intel==2.18.0->tensorflow<2.19,>=2.18->tf-keras) (3.10)\n",
      "Requirement already satisfied: urllib3<3,>=1.21.1 in c:\\users\\aadit\\appdata\\local\\programs\\python\\python312\\lib\\site-packages (from requests<3,>=2.21.0->tensorflow-intel==2.18.0->tensorflow<2.19,>=2.18->tf-keras) (2.3.0)\n",
      "Requirement already satisfied: certifi>=2017.4.17 in c:\\users\\aadit\\appdata\\local\\programs\\python\\python312\\lib\\site-packages (from requests<3,>=2.21.0->tensorflow-intel==2.18.0->tensorflow<2.19,>=2.18->tf-keras) (2024.12.14)\n",
      "Requirement already satisfied: markdown>=2.6.8 in c:\\users\\aadit\\appdata\\local\\programs\\python\\python312\\lib\\site-packages (from tensorboard<2.19,>=2.18->tensorflow-intel==2.18.0->tensorflow<2.19,>=2.18->tf-keras) (3.7)\n",
      "Requirement already satisfied: tensorboard-data-server<0.8.0,>=0.7.0 in c:\\users\\aadit\\appdata\\local\\programs\\python\\python312\\lib\\site-packages (from tensorboard<2.19,>=2.18->tensorflow-intel==2.18.0->tensorflow<2.19,>=2.18->tf-keras) (0.7.2)\n",
      "Requirement already satisfied: werkzeug>=1.0.1 in c:\\users\\aadit\\appdata\\local\\programs\\python\\python312\\lib\\site-packages (from tensorboard<2.19,>=2.18->tensorflow-intel==2.18.0->tensorflow<2.19,>=2.18->tf-keras) (3.1.3)\n",
      "Requirement already satisfied: MarkupSafe>=2.1.1 in c:\\users\\aadit\\appdata\\local\\programs\\python\\python312\\lib\\site-packages (from werkzeug>=1.0.1->tensorboard<2.19,>=2.18->tensorflow-intel==2.18.0->tensorflow<2.19,>=2.18->tf-keras) (3.0.2)\n",
      "Requirement already satisfied: markdown-it-py>=2.2.0 in c:\\users\\aadit\\appdata\\local\\programs\\python\\python312\\lib\\site-packages (from rich->keras>=3.5.0->tensorflow-intel==2.18.0->tensorflow<2.19,>=2.18->tf-keras) (3.0.0)\n",
      "Requirement already satisfied: pygments<3.0.0,>=2.13.0 in c:\\users\\aadit\\appdata\\local\\programs\\python\\python312\\lib\\site-packages (from rich->keras>=3.5.0->tensorflow-intel==2.18.0->tensorflow<2.19,>=2.18->tf-keras) (2.19.1)\n",
      "Requirement already satisfied: mdurl~=0.1 in c:\\users\\aadit\\appdata\\local\\programs\\python\\python312\\lib\\site-packages (from markdown-it-py>=2.2.0->rich->keras>=3.5.0->tensorflow-intel==2.18.0->tensorflow<2.19,>=2.18->tf-keras) (0.1.2)\n"
     ]
    },
    {
     "name": "stderr",
     "output_type": "stream",
     "text": [
      "\n",
      "[notice] A new release of pip is available: 24.3.1 -> 25.0.1\n",
      "[notice] To update, run: python.exe -m pip install --upgrade pip\n"
     ]
    }
   ],
   "source": [
    "!pip install tf-keras"
   ]
  },
  {
   "cell_type": "code",
   "execution_count": 2,
   "id": "ea733797-9eaf-487d-a262-ed39ec306a9e",
   "metadata": {},
   "outputs": [],
   "source": [
    "import pandas as pd\n",
    "import string\n",
    "import re\n",
    "import fasttext\n",
    "import urllib.request"
   ]
  },
  {
   "cell_type": "markdown",
   "id": "8fef3fef-4168-4d10-a6c6-fb329b469495",
   "metadata": {},
   "source": [
    "## Read CSV file"
   ]
  },
  {
   "cell_type": "code",
   "execution_count": 3,
   "id": "1d08c595-2b15-4840-81a1-d57111d1c693",
   "metadata": {},
   "outputs": [],
   "source": [
    "df1 =  pd.read_csv(\"merged_data.csv\")"
   ]
  },
  {
   "cell_type": "code",
   "execution_count": 4,
   "id": "e98c56d4-7a59-4e9d-852d-428bb5aa8abc",
   "metadata": {},
   "outputs": [
    {
     "name": "stdout",
     "output_type": "stream",
     "text": [
      "(9165, 1)\n"
     ]
    },
    {
     "data": {
      "text/html": [
       "<div>\n",
       "<style scoped>\n",
       "    .dataframe tbody tr th:only-of-type {\n",
       "        vertical-align: middle;\n",
       "    }\n",
       "\n",
       "    .dataframe tbody tr th {\n",
       "        vertical-align: top;\n",
       "    }\n",
       "\n",
       "    .dataframe thead th {\n",
       "        text-align: right;\n",
       "    }\n",
       "</style>\n",
       "<table border=\"1\" class=\"dataframe\">\n",
       "  <thead>\n",
       "    <tr style=\"text-align: right;\">\n",
       "      <th></th>\n",
       "      <th>reviews</th>\n",
       "    </tr>\n",
       "  </thead>\n",
       "  <tbody>\n",
       "    <tr>\n",
       "      <th>0</th>\n",
       "      <td>NaN</td>\n",
       "    </tr>\n",
       "    <tr>\n",
       "      <th>1</th>\n",
       "      <td>NaN</td>\n",
       "    </tr>\n",
       "    <tr>\n",
       "      <th>2</th>\n",
       "      <td>OnePlus has outdone itself this time, deliveri...</td>\n",
       "    </tr>\n",
       "  </tbody>\n",
       "</table>\n",
       "</div>"
      ],
      "text/plain": [
       "                                             reviews\n",
       "0                                                NaN\n",
       "1                                                NaN\n",
       "2  OnePlus has outdone itself this time, deliveri..."
      ]
     },
     "execution_count": 4,
     "metadata": {},
     "output_type": "execute_result"
    }
   ],
   "source": [
    "print(df1.shape)\n",
    "df1.head(3)"
   ]
  },
  {
   "cell_type": "code",
   "execution_count": 5,
   "id": "d7c4cb84-23a7-4f42-b391-d75b8742be1f",
   "metadata": {},
   "outputs": [
    {
     "data": {
      "text/plain": [
       "reviews\n",
       "False      8047\n",
       "True       1118\n",
       "Name: count, dtype: int64"
      ]
     },
     "execution_count": 5,
     "metadata": {},
     "output_type": "execute_result"
    }
   ],
   "source": [
    "df1.isna().value_counts()"
   ]
  },
  {
   "cell_type": "markdown",
   "id": "b083b9e6-2ca1-4756-946d-93f45c32d689",
   "metadata": {},
   "source": [
    "### Removing Null Values"
   ]
  },
  {
   "cell_type": "code",
   "execution_count": 6,
   "id": "16a5b517-d104-4585-8146-753f65bcd0bd",
   "metadata": {},
   "outputs": [],
   "source": [
    "df1 = df1.dropna()"
   ]
  },
  {
   "cell_type": "code",
   "execution_count": 7,
   "id": "0a00df8f-a768-4864-af52-d80b304d49fd",
   "metadata": {},
   "outputs": [
    {
     "data": {
      "text/plain": [
       "(8047, 1)"
      ]
     },
     "execution_count": 7,
     "metadata": {},
     "output_type": "execute_result"
    }
   ],
   "source": [
    "df1.shape"
   ]
  },
  {
   "cell_type": "markdown",
   "id": "5230990b-ba18-4e79-be17-f7264eedc1fd",
   "metadata": {},
   "source": [
    "## Text Preprocessing"
   ]
  },
  {
   "cell_type": "code",
   "execution_count": 8,
   "id": "3fc3248f-8e54-4079-80f8-13443d9f0869",
   "metadata": {},
   "outputs": [],
   "source": [
    "def preprocess(text):\n",
    "    text = text.lower()\n",
    "    text = text.translate(str.maketrans(\"\",\"\",string.punctuation))\n",
    "    text = re.sub(\"\\\\n\",\" \",text)\n",
    "    return text"
   ]
  },
  {
   "cell_type": "code",
   "execution_count": 9,
   "id": "55db1134-e270-4f1f-9fad-5529f457e877",
   "metadata": {},
   "outputs": [
    {
     "data": {
      "text/html": [
       "<div>\n",
       "<style scoped>\n",
       "    .dataframe tbody tr th:only-of-type {\n",
       "        vertical-align: middle;\n",
       "    }\n",
       "\n",
       "    .dataframe tbody tr th {\n",
       "        vertical-align: top;\n",
       "    }\n",
       "\n",
       "    .dataframe thead th {\n",
       "        text-align: right;\n",
       "    }\n",
       "</style>\n",
       "<table border=\"1\" class=\"dataframe\">\n",
       "  <thead>\n",
       "    <tr style=\"text-align: right;\">\n",
       "      <th></th>\n",
       "      <th>reviews</th>\n",
       "      <th>preprocessed_text</th>\n",
       "    </tr>\n",
       "  </thead>\n",
       "  <tbody>\n",
       "    <tr>\n",
       "      <th>2</th>\n",
       "      <td>OnePlus has outdone itself this time, deliveri...</td>\n",
       "      <td>oneplus has outdone itself this time deliverin...</td>\n",
       "    </tr>\n",
       "    <tr>\n",
       "      <th>3</th>\n",
       "      <td>A powerhouse of performance and style! ✨ The s...</td>\n",
       "      <td>a powerhouse of performance and style ✨ the st...</td>\n",
       "    </tr>\n",
       "  </tbody>\n",
       "</table>\n",
       "</div>"
      ],
      "text/plain": [
       "                                             reviews  \\\n",
       "2  OnePlus has outdone itself this time, deliveri...   \n",
       "3  A powerhouse of performance and style! ✨ The s...   \n",
       "\n",
       "                                   preprocessed_text  \n",
       "2  oneplus has outdone itself this time deliverin...  \n",
       "3  a powerhouse of performance and style ✨ the st...  "
      ]
     },
     "execution_count": 9,
     "metadata": {},
     "output_type": "execute_result"
    }
   ],
   "source": [
    "df1['preprocessed_text'] = df1['reviews'].apply(preprocess)\n",
    "df1.head(2)"
   ]
  },
  {
   "cell_type": "markdown",
   "id": "590c0071-cfc7-4042-96a7-c54e6eaa5217",
   "metadata": {},
   "source": [
    "### Removing languages other than english"
   ]
  },
  {
   "cell_type": "code",
   "execution_count": 10,
   "id": "abf43a65-4460-4279-9a0a-b56dd7cd6859",
   "metadata": {},
   "outputs": [
    {
     "name": "stdout",
     "output_type": "stream",
     "text": [
      "(('__label__en',), array([0.95950234]))\n",
      "(('__label__fr',), array([0.99683094]))\n"
     ]
    }
   ],
   "source": [
    "url = \"https://dl.fbaipublicfiles.com/fasttext/supervised-models/lid.176.bin\"\n",
    "urllib.request.urlretrieve(url, \"lid.176.bin\")\n",
    "\n",
    "# Load model\n",
    "model = fasttext.load_model(\"lid.176.bin\")\n",
    "\n",
    "# Test detection\n",
    "print(model.predict(\"This is an English review.\"))  # Expected: __label__en\n",
    "print(model.predict(\"Ceci est un avis en français.\"))  # Expected: __label__fr"
   ]
  },
  {
   "cell_type": "code",
   "execution_count": 11,
   "id": "e67b82a9-74bc-4ebf-9d64-908cc38eae9c",
   "metadata": {},
   "outputs": [],
   "source": [
    "df1 = df1.reset_index(drop=True)"
   ]
  },
  {
   "cell_type": "code",
   "execution_count": 12,
   "id": "52d51042-6581-489e-81ff-eea58c175313",
   "metadata": {},
   "outputs": [],
   "source": [
    "def remove_other_languages(text):\n",
    "    if model.predict(text)[0][0] == '__label__en':\n",
    "        return text\n",
    "    else:\n",
    "        return ''\n",
    "df1['eng_reviews'] = df1['preprocessed_text'].apply(remove_other_languages)"
   ]
  },
  {
   "cell_type": "code",
   "execution_count": 13,
   "id": "6a7c05e6-7e4c-4ecf-99ce-69f58c08ba12",
   "metadata": {},
   "outputs": [],
   "source": [
    "df2 = pd.DataFrame()\n",
    "df2 = df1[df1['eng_reviews'].str.len()>0]"
   ]
  },
  {
   "cell_type": "code",
   "execution_count": 14,
   "id": "c15f1b14-d7b7-4ef1-bea0-6df016ed84c5",
   "metadata": {},
   "outputs": [
    {
     "data": {
      "text/plain": [
       "(7778, 3)"
      ]
     },
     "execution_count": 14,
     "metadata": {},
     "output_type": "execute_result"
    }
   ],
   "source": [
    "df2.shape"
   ]
  },
  {
   "cell_type": "code",
   "execution_count": 15,
   "id": "b4a4ce55-ca74-4a1d-a295-d2b0a879026d",
   "metadata": {},
   "outputs": [],
   "source": [
    "df2 = df2.reset_index(drop=True)"
   ]
  },
  {
   "cell_type": "markdown",
   "id": "5f69f382-61b3-4ac9-8d92-6b86fc752c51",
   "metadata": {},
   "source": [
    "## Data Labelling \n",
    "- Used transformers pre-trained pipeline for sentiment analysis for accurate labels"
   ]
  },
  {
   "cell_type": "code",
   "execution_count": 16,
   "id": "229b3d25-e8e5-4894-8d82-4b6cf7235a04",
   "metadata": {},
   "outputs": [
    {
     "name": "stderr",
     "output_type": "stream",
     "text": [
      "No model was supplied, defaulted to distilbert/distilbert-base-uncased-finetuned-sst-2-english and revision 714eb0f (https://huggingface.co/distilbert/distilbert-base-uncased-finetuned-sst-2-english).\n",
      "Using a pipeline without specifying a model name and revision in production is not recommended.\n"
     ]
    },
    {
     "name": "stdout",
     "output_type": "stream",
     "text": [
      "WARNING:tensorflow:From C:\\Users\\aadit\\AppData\\Local\\Programs\\Python\\Python312\\Lib\\site-packages\\tf_keras\\src\\losses.py:2976: The name tf.losses.sparse_softmax_cross_entropy is deprecated. Please use tf.compat.v1.losses.sparse_softmax_cross_entropy instead.\n",
      "\n"
     ]
    },
    {
     "name": "stderr",
     "output_type": "stream",
     "text": [
      "Device set to use cpu\n"
     ]
    }
   ],
   "source": [
    "from transformers import pipeline\n",
    "\n",
    "model = pipeline('sentiment-analysis')"
   ]
  },
  {
   "cell_type": "code",
   "execution_count": 17,
   "id": "fb04f375-1881-434b-ac53-632b60bde116",
   "metadata": {
    "scrolled": true
   },
   "outputs": [
    {
     "name": "stderr",
     "output_type": "stream",
     "text": [
      "Token indices sequence length is longer than the specified maximum sequence length for this model (1024 > 512). Running this sequence through the model will result in indexing errors\n"
     ]
    },
    {
     "name": "stdout",
     "output_type": "stream",
     "text": [
      "failed for 2\n",
      "failed for 7\n",
      "failed for 31\n",
      "failed for 49\n",
      "failed for 92\n",
      "failed for 134\n",
      "failed for 148\n",
      "failed for 255\n",
      "failed for 315\n",
      "failed for 318\n",
      "failed for 345\n",
      "failed for 375\n",
      "failed for 394\n",
      "failed for 484\n",
      "failed for 492\n",
      "failed for 515\n",
      "failed for 525\n",
      "failed for 563\n",
      "failed for 644\n",
      "failed for 652\n",
      "failed for 678\n",
      "failed for 690\n",
      "failed for 698\n",
      "failed for 727\n",
      "failed for 811\n",
      "failed for 816\n",
      "failed for 854\n",
      "failed for 921\n",
      "failed for 944\n",
      "failed for 973\n",
      "failed for 982\n",
      "failed for 1012\n",
      "failed for 1021\n",
      "failed for 1028\n",
      "failed for 1035\n",
      "failed for 1059\n",
      "failed for 1062\n",
      "failed for 1080\n",
      "failed for 1136\n",
      "failed for 1149\n",
      "failed for 1259\n",
      "failed for 1288\n",
      "failed for 1291\n",
      "failed for 1378\n",
      "failed for 1406\n",
      "failed for 1408\n",
      "failed for 1418\n",
      "failed for 1505\n",
      "failed for 1506\n",
      "failed for 1598\n",
      "failed for 1697\n",
      "failed for 1700\n",
      "failed for 1879\n",
      "failed for 1940\n",
      "failed for 1950\n",
      "failed for 2297\n",
      "failed for 2317\n",
      "failed for 2319\n",
      "failed for 2357\n",
      "failed for 2358\n",
      "failed for 2370\n",
      "failed for 2373\n",
      "failed for 2403\n",
      "failed for 2487\n",
      "failed for 2546\n",
      "failed for 2549\n",
      "failed for 2704\n",
      "failed for 2936\n",
      "failed for 2961\n",
      "failed for 2966\n",
      "failed for 2967\n",
      "failed for 3004\n",
      "failed for 3031\n",
      "failed for 3068\n",
      "failed for 3113\n",
      "failed for 3126\n",
      "failed for 3168\n",
      "failed for 3206\n",
      "failed for 3255\n",
      "failed for 3282\n",
      "failed for 3339\n",
      "failed for 3343\n",
      "failed for 3387\n",
      "failed for 3427\n",
      "failed for 3436\n",
      "failed for 3462\n",
      "failed for 3508\n",
      "failed for 3528\n",
      "failed for 3606\n",
      "failed for 3639\n",
      "failed for 3723\n",
      "failed for 3724\n",
      "failed for 3829\n",
      "failed for 3860\n",
      "failed for 3873\n",
      "failed for 3886\n",
      "failed for 3916\n",
      "failed for 3974\n",
      "failed for 3992\n",
      "failed for 4009\n",
      "failed for 4021\n",
      "failed for 4082\n",
      "failed for 4094\n",
      "failed for 4124\n",
      "failed for 4169\n",
      "failed for 4240\n",
      "failed for 4262\n",
      "failed for 4323\n",
      "failed for 4329\n",
      "failed for 4345\n",
      "failed for 4404\n",
      "failed for 4419\n",
      "failed for 4428\n",
      "failed for 4446\n",
      "failed for 4469\n",
      "failed for 4476\n",
      "failed for 4512\n",
      "failed for 4525\n",
      "failed for 4579\n",
      "failed for 4925\n",
      "failed for 4999\n",
      "failed for 5030\n",
      "failed for 5031\n",
      "failed for 5050\n",
      "failed for 5060\n",
      "failed for 5087\n",
      "failed for 5118\n",
      "failed for 5119\n",
      "failed for 5163\n",
      "failed for 6225\n",
      "failed for 6319\n",
      "failed for 6346\n",
      "failed for 6360\n",
      "failed for 6571\n",
      "failed for 6701\n",
      "failed for 6733\n",
      "failed for 6753\n",
      "failed for 6833\n",
      "failed for 6856\n",
      "failed for 6864\n",
      "failed for 6979\n",
      "failed for 7263\n",
      "failed for 7316\n",
      "failed for 7347\n",
      "failed for 7445\n",
      "failed for 7456\n",
      "failed for 7495\n",
      "failed for 7611\n",
      "failed for 7622\n",
      "failed for 7680\n"
     ]
    }
   ],
   "source": [
    "sentiment = []\n",
    "def predict_sentiment(text,id):\n",
    "    try:\n",
    "        sentiment.append(model(text)[0]['label'])\n",
    "    except RuntimeError:\n",
    "        sentiment.append('')\n",
    "        print(\"failed for\",id)\n",
    "for i,text in enumerate(df2['eng_reviews']):\n",
    "    predict_sentiment(text, i)\n",
    "\n"
   ]
  },
  {
   "cell_type": "markdown",
   "id": "ebc02ae0-0f63-4c07-bb5b-08a256588de5",
   "metadata": {},
   "source": [
    "Some reviews exceed the model's word limit, so the model fails at those reviews."
   ]
  },
  {
   "cell_type": "code",
   "execution_count": 18,
   "id": "3f31efa1-bde8-4695-91a4-21196cdad3af",
   "metadata": {},
   "outputs": [
    {
     "name": "stdout",
     "output_type": "stream",
     "text": [
      "4634\n",
      "2994\n",
      "150\n"
     ]
    }
   ],
   "source": [
    "print(sentiment.count('POSITIVE'))\n",
    "print(sentiment.count('NEGATIVE'))\n",
    "print(sentiment.count(''))"
   ]
  },
  {
   "cell_type": "markdown",
   "id": "ae1fcfd3-ebb2-4bb9-a053-67856a89ff51",
   "metadata": {},
   "source": [
    "The model fails for exactly 150 reviews, further removing them from the dataset."
   ]
  },
  {
   "cell_type": "code",
   "execution_count": 19,
   "id": "19dc83f2-84f2-438e-9e7e-dc2f19eaad2c",
   "metadata": {},
   "outputs": [],
   "source": [
    "df2['sentiments'] = sentiment"
   ]
  },
  {
   "cell_type": "code",
   "execution_count": 20,
   "id": "ec22ef0b-7b20-47ce-ac0d-4b4b57cf3ad0",
   "metadata": {},
   "outputs": [],
   "source": [
    "df3 = df2[df2['sentiments']!=''] "
   ]
  },
  {
   "cell_type": "code",
   "execution_count": 21,
   "id": "f4ed2458-a5ab-4406-a895-cc186abfa6e3",
   "metadata": {},
   "outputs": [],
   "source": [
    "df3 = df3.reset_index(drop=True)"
   ]
  },
  {
   "cell_type": "code",
   "execution_count": 22,
   "id": "d8da13ec-8903-45bb-a020-dc1222130001",
   "metadata": {},
   "outputs": [],
   "source": [
    "df3['sentiments'] = df3['sentiments'].apply(lambda x: 1 if x=='POSITIVE' else 0)"
   ]
  },
  {
   "cell_type": "markdown",
   "id": "99da331b-5377-4070-b43a-5d492fae4579",
   "metadata": {},
   "source": [
    "### Stemming and Stopword removal"
   ]
  },
  {
   "cell_type": "code",
   "execution_count": 23,
   "id": "a2d531e1-2984-4ce4-a519-aebb9e014017",
   "metadata": {},
   "outputs": [],
   "source": [
    "from nltk.stem import PorterStemmer\n",
    "from nltk.corpus import stopwords"
   ]
  },
  {
   "cell_type": "code",
   "execution_count": 24,
   "id": "09efae86-c83d-40bd-9ee7-3790bd5f473c",
   "metadata": {},
   "outputs": [],
   "source": [
    "stemmer = PorterStemmer()\n",
    "def stemming(text):\n",
    "    text =  re.sub(r\"[^a-z]\",\" \", text)\n",
    "    text = text.split()\n",
    "    text = [stemmer.stem(word) for word in text if word not in stopwords.words('english')]\n",
    "    text = \" \".join(text)\n",
    "    return text"
   ]
  },
  {
   "cell_type": "code",
   "execution_count": 25,
   "id": "24712aa9-cd35-42e0-908d-828c4b164b18",
   "metadata": {},
   "outputs": [],
   "source": [
    "df3['stemmed_text'] = df3['eng_reviews'].apply(stemming)"
   ]
  },
  {
   "cell_type": "code",
   "execution_count": 26,
   "id": "1e5d7107-63dd-4e4e-a38b-3628412f0157",
   "metadata": {},
   "outputs": [
    {
     "data": {
      "text/html": [
       "<div>\n",
       "<style scoped>\n",
       "    .dataframe tbody tr th:only-of-type {\n",
       "        vertical-align: middle;\n",
       "    }\n",
       "\n",
       "    .dataframe tbody tr th {\n",
       "        vertical-align: top;\n",
       "    }\n",
       "\n",
       "    .dataframe thead th {\n",
       "        text-align: right;\n",
       "    }\n",
       "</style>\n",
       "<table border=\"1\" class=\"dataframe\">\n",
       "  <thead>\n",
       "    <tr style=\"text-align: right;\">\n",
       "      <th></th>\n",
       "      <th>reviews</th>\n",
       "      <th>preprocessed_text</th>\n",
       "      <th>eng_reviews</th>\n",
       "      <th>sentiments</th>\n",
       "      <th>stemmed_text</th>\n",
       "    </tr>\n",
       "  </thead>\n",
       "  <tbody>\n",
       "    <tr>\n",
       "      <th>0</th>\n",
       "      <td>OnePlus has outdone itself this time, deliveri...</td>\n",
       "      <td>oneplus has outdone itself this time deliverin...</td>\n",
       "      <td>oneplus has outdone itself this time deliverin...</td>\n",
       "      <td>1</td>\n",
       "      <td>oneplu outdon time deliv smartphon truli live ...</td>\n",
       "    </tr>\n",
       "    <tr>\n",
       "      <th>1</th>\n",
       "      <td>A powerhouse of performance and style! ✨ The s...</td>\n",
       "      <td>a powerhouse of performance and style ✨ the st...</td>\n",
       "      <td>a powerhouse of performance and style ✨ the st...</td>\n",
       "      <td>1</td>\n",
       "      <td>powerhous perform style stun display captiv ca...</td>\n",
       "    </tr>\n",
       "    <tr>\n",
       "      <th>2</th>\n",
       "      <td>Surprisingly good product for the price.\\nI ha...</td>\n",
       "      <td>surprisingly good product for the price i have...</td>\n",
       "      <td>surprisingly good product for the price i have...</td>\n",
       "      <td>1</td>\n",
       "      <td>surprisingli good product price gener purchas ...</td>\n",
       "    </tr>\n",
       "    <tr>\n",
       "      <th>3</th>\n",
       "      <td>Bought the phone a month ago. Safe to say at t...</td>\n",
       "      <td>bought the phone a month ago safe to say at th...</td>\n",
       "      <td>bought the phone a month ago safe to say at th...</td>\n",
       "      <td>0</td>\n",
       "      <td>bought phone month ago safe say price rang ban...</td>\n",
       "    </tr>\n",
       "    <tr>\n",
       "      <th>4</th>\n",
       "      <td>This is my first OnePlus device, before this i...</td>\n",
       "      <td>this is my first oneplus device before this ia...</td>\n",
       "      <td>this is my first oneplus device before this ia...</td>\n",
       "      <td>1</td>\n",
       "      <td>first oneplu devic iam user poco believ oxygen...</td>\n",
       "    </tr>\n",
       "  </tbody>\n",
       "</table>\n",
       "</div>"
      ],
      "text/plain": [
       "                                             reviews  \\\n",
       "0  OnePlus has outdone itself this time, deliveri...   \n",
       "1  A powerhouse of performance and style! ✨ The s...   \n",
       "2  Surprisingly good product for the price.\\nI ha...   \n",
       "3  Bought the phone a month ago. Safe to say at t...   \n",
       "4  This is my first OnePlus device, before this i...   \n",
       "\n",
       "                                   preprocessed_text  \\\n",
       "0  oneplus has outdone itself this time deliverin...   \n",
       "1  a powerhouse of performance and style ✨ the st...   \n",
       "2  surprisingly good product for the price i have...   \n",
       "3  bought the phone a month ago safe to say at th...   \n",
       "4  this is my first oneplus device before this ia...   \n",
       "\n",
       "                                         eng_reviews  sentiments  \\\n",
       "0  oneplus has outdone itself this time deliverin...           1   \n",
       "1  a powerhouse of performance and style ✨ the st...           1   \n",
       "2  surprisingly good product for the price i have...           1   \n",
       "3  bought the phone a month ago safe to say at th...           0   \n",
       "4  this is my first oneplus device before this ia...           1   \n",
       "\n",
       "                                        stemmed_text  \n",
       "0  oneplu outdon time deliv smartphon truli live ...  \n",
       "1  powerhous perform style stun display captiv ca...  \n",
       "2  surprisingli good product price gener purchas ...  \n",
       "3  bought phone month ago safe say price rang ban...  \n",
       "4  first oneplu devic iam user poco believ oxygen...  "
      ]
     },
     "execution_count": 26,
     "metadata": {},
     "output_type": "execute_result"
    }
   ],
   "source": [
    "df3.head()"
   ]
  },
  {
   "cell_type": "markdown",
   "id": "92d07dbc-77a2-49bf-ba74-911bb512ab26",
   "metadata": {},
   "source": [
    "Saving the data frame for further usage"
   ]
  },
  {
   "cell_type": "code",
   "execution_count": null,
   "id": "4ad3e247-79a5-471f-9b6d-ceff775faa02",
   "metadata": {},
   "outputs": [],
   "source": [
    "df3.to_csv('stemmed_reviews.csv', index=False)"
   ]
  },
  {
   "cell_type": "code",
   "execution_count": 27,
   "id": "25abdf46-4a10-4e90-9bdb-f14c2bf83998",
   "metadata": {},
   "outputs": [
    {
     "data": {
      "text/plain": [
       "stemmed_text\n",
       "False    7628\n",
       "Name: count, dtype: int64"
      ]
     },
     "execution_count": 27,
     "metadata": {},
     "output_type": "execute_result"
    }
   ],
   "source": [
    "df3['stemmed_text'].isna().value_counts()"
   ]
  },
  {
   "cell_type": "code",
   "execution_count": 28,
   "id": "2c207e1d-4d2c-4d05-a0c0-310296d17450",
   "metadata": {},
   "outputs": [],
   "source": [
    "df3['stemmed_text'] = df3['stemmed_text'].fillna(\" \")"
   ]
  },
  {
   "cell_type": "code",
   "execution_count": 29,
   "id": "4b0277d0-8613-47f8-8f3d-f50e3b382eec",
   "metadata": {},
   "outputs": [],
   "source": [
    "X = df3['stemmed_text'].values\n",
    "Y = df3['sentiments'].values"
   ]
  },
  {
   "cell_type": "markdown",
   "id": "1873bd6d-99ee-4420-83e3-a870fd2d85e8",
   "metadata": {},
   "source": [
    "### Splitting data for training"
   ]
  },
  {
   "cell_type": "code",
   "execution_count": 30,
   "id": "eaee48da-ca1a-4444-a9cc-a2f42fc5d43b",
   "metadata": {},
   "outputs": [],
   "source": [
    "from sklearn.model_selection import train_test_split\n",
    "x_train, x_test, y_train, y_test = train_test_split(X,Y, stratify=Y, test_size = 0.2, random_state = 42)"
   ]
  },
  {
   "cell_type": "code",
   "execution_count": 31,
   "id": "6657a107-d8d1-4518-92f8-acc3f2e07d51",
   "metadata": {},
   "outputs": [
    {
     "data": {
      "text/plain": [
       "{(1526,), (6102,), (7628,)}"
      ]
     },
     "execution_count": 31,
     "metadata": {},
     "output_type": "execute_result"
    }
   ],
   "source": [
    "{X.shape,x_train.shape, x_test.shape}"
   ]
  },
  {
   "cell_type": "code",
   "execution_count": 32,
   "id": "7626dceb-a51d-4d1c-866e-07de0d0932c6",
   "metadata": {},
   "outputs": [],
   "source": [
    "import tensorflow as tf\n",
    "from tensorflow.keras.preprocessing.text import Tokenizer\n",
    "from tensorflow.keras.preprocessing.sequence import pad_sequences\n",
    "\n",
    "tokenizer = Tokenizer(num_words=10000, oov_token=\"<OOV>\")\n",
    "tokenizer.fit_on_texts(X)"
   ]
  },
  {
   "cell_type": "code",
   "execution_count": 33,
   "id": "5ae2eed3-5120-47f0-962e-11e056256370",
   "metadata": {},
   "outputs": [],
   "source": [
    "x_train_seq = pad_sequences(tokenizer.texts_to_sequences(x_train), maxlen=100, padding='post', truncating='post')\n",
    "x_test_seq = pad_sequences(tokenizer.texts_to_sequences(x_test), maxlen=100, padding='post', truncating='post')"
   ]
  },
  {
   "cell_type": "markdown",
   "id": "cfb0764b-0434-4c7a-8c0c-6613c55ab36b",
   "metadata": {},
   "source": [
    "## Building LSTM model"
   ]
  },
  {
   "cell_type": "code",
   "execution_count": 34,
   "id": "e8174a95-8aa6-4edc-abee-bef3ac91aa33",
   "metadata": {},
   "outputs": [
    {
     "data": {
      "text/html": [
       "<pre style=\"white-space:pre;overflow-x:auto;line-height:normal;font-family:Menlo,'DejaVu Sans Mono',consolas,'Courier New',monospace\"><span style=\"font-weight: bold\">Model: \"sequential\"</span>\n",
       "</pre>\n"
      ],
      "text/plain": [
       "\u001b[1mModel: \"sequential\"\u001b[0m\n"
      ]
     },
     "metadata": {},
     "output_type": "display_data"
    },
    {
     "data": {
      "text/html": [
       "<pre style=\"white-space:pre;overflow-x:auto;line-height:normal;font-family:Menlo,'DejaVu Sans Mono',consolas,'Courier New',monospace\">┏━━━━━━━━━━━━━━━━━━━━━━━━━━━━━━━━━━━━━━┳━━━━━━━━━━━━━━━━━━━━━━━━━━━━━┳━━━━━━━━━━━━━━━━━┓\n",
       "┃<span style=\"font-weight: bold\"> Layer (type)                         </span>┃<span style=\"font-weight: bold\"> Output Shape                </span>┃<span style=\"font-weight: bold\">         Param # </span>┃\n",
       "┡━━━━━━━━━━━━━━━━━━━━━━━━━━━━━━━━━━━━━━╇━━━━━━━━━━━━━━━━━━━━━━━━━━━━━╇━━━━━━━━━━━━━━━━━┩\n",
       "│ embedding (<span style=\"color: #0087ff; text-decoration-color: #0087ff\">Embedding</span>)                │ (<span style=\"color: #00d7ff; text-decoration-color: #00d7ff\">None</span>, <span style=\"color: #00af00; text-decoration-color: #00af00\">100</span>, <span style=\"color: #00af00; text-decoration-color: #00af00\">128</span>)            │       <span style=\"color: #00af00; text-decoration-color: #00af00\">1,280,000</span> │\n",
       "├──────────────────────────────────────┼─────────────────────────────┼─────────────────┤\n",
       "│ lstm (<span style=\"color: #0087ff; text-decoration-color: #0087ff\">LSTM</span>)                          │ (<span style=\"color: #00d7ff; text-decoration-color: #00d7ff\">None</span>, <span style=\"color: #00af00; text-decoration-color: #00af00\">100</span>, <span style=\"color: #00af00; text-decoration-color: #00af00\">64</span>)             │          <span style=\"color: #00af00; text-decoration-color: #00af00\">49,408</span> │\n",
       "├──────────────────────────────────────┼─────────────────────────────┼─────────────────┤\n",
       "│ lstm_1 (<span style=\"color: #0087ff; text-decoration-color: #0087ff\">LSTM</span>)                        │ (<span style=\"color: #00d7ff; text-decoration-color: #00d7ff\">None</span>, <span style=\"color: #00af00; text-decoration-color: #00af00\">32</span>)                  │          <span style=\"color: #00af00; text-decoration-color: #00af00\">12,416</span> │\n",
       "├──────────────────────────────────────┼─────────────────────────────┼─────────────────┤\n",
       "│ dense (<span style=\"color: #0087ff; text-decoration-color: #0087ff\">Dense</span>)                        │ (<span style=\"color: #00d7ff; text-decoration-color: #00d7ff\">None</span>, <span style=\"color: #00af00; text-decoration-color: #00af00\">16</span>)                  │             <span style=\"color: #00af00; text-decoration-color: #00af00\">528</span> │\n",
       "├──────────────────────────────────────┼─────────────────────────────┼─────────────────┤\n",
       "│ dense_1 (<span style=\"color: #0087ff; text-decoration-color: #0087ff\">Dense</span>)                      │ (<span style=\"color: #00d7ff; text-decoration-color: #00d7ff\">None</span>, <span style=\"color: #00af00; text-decoration-color: #00af00\">1</span>)                   │              <span style=\"color: #00af00; text-decoration-color: #00af00\">17</span> │\n",
       "└──────────────────────────────────────┴─────────────────────────────┴─────────────────┘\n",
       "</pre>\n"
      ],
      "text/plain": [
       "┏━━━━━━━━━━━━━━━━━━━━━━━━━━━━━━━━━━━━━━┳━━━━━━━━━━━━━━━━━━━━━━━━━━━━━┳━━━━━━━━━━━━━━━━━┓\n",
       "┃\u001b[1m \u001b[0m\u001b[1mLayer (type)                        \u001b[0m\u001b[1m \u001b[0m┃\u001b[1m \u001b[0m\u001b[1mOutput Shape               \u001b[0m\u001b[1m \u001b[0m┃\u001b[1m \u001b[0m\u001b[1m        Param #\u001b[0m\u001b[1m \u001b[0m┃\n",
       "┡━━━━━━━━━━━━━━━━━━━━━━━━━━━━━━━━━━━━━━╇━━━━━━━━━━━━━━━━━━━━━━━━━━━━━╇━━━━━━━━━━━━━━━━━┩\n",
       "│ embedding (\u001b[38;5;33mEmbedding\u001b[0m)                │ (\u001b[38;5;45mNone\u001b[0m, \u001b[38;5;34m100\u001b[0m, \u001b[38;5;34m128\u001b[0m)            │       \u001b[38;5;34m1,280,000\u001b[0m │\n",
       "├──────────────────────────────────────┼─────────────────────────────┼─────────────────┤\n",
       "│ lstm (\u001b[38;5;33mLSTM\u001b[0m)                          │ (\u001b[38;5;45mNone\u001b[0m, \u001b[38;5;34m100\u001b[0m, \u001b[38;5;34m64\u001b[0m)             │          \u001b[38;5;34m49,408\u001b[0m │\n",
       "├──────────────────────────────────────┼─────────────────────────────┼─────────────────┤\n",
       "│ lstm_1 (\u001b[38;5;33mLSTM\u001b[0m)                        │ (\u001b[38;5;45mNone\u001b[0m, \u001b[38;5;34m32\u001b[0m)                  │          \u001b[38;5;34m12,416\u001b[0m │\n",
       "├──────────────────────────────────────┼─────────────────────────────┼─────────────────┤\n",
       "│ dense (\u001b[38;5;33mDense\u001b[0m)                        │ (\u001b[38;5;45mNone\u001b[0m, \u001b[38;5;34m16\u001b[0m)                  │             \u001b[38;5;34m528\u001b[0m │\n",
       "├──────────────────────────────────────┼─────────────────────────────┼─────────────────┤\n",
       "│ dense_1 (\u001b[38;5;33mDense\u001b[0m)                      │ (\u001b[38;5;45mNone\u001b[0m, \u001b[38;5;34m1\u001b[0m)                   │              \u001b[38;5;34m17\u001b[0m │\n",
       "└──────────────────────────────────────┴─────────────────────────────┴─────────────────┘\n"
      ]
     },
     "metadata": {},
     "output_type": "display_data"
    },
    {
     "data": {
      "text/html": [
       "<pre style=\"white-space:pre;overflow-x:auto;line-height:normal;font-family:Menlo,'DejaVu Sans Mono',consolas,'Courier New',monospace\"><span style=\"font-weight: bold\"> Total params: </span><span style=\"color: #00af00; text-decoration-color: #00af00\">1,342,369</span> (5.12 MB)\n",
       "</pre>\n"
      ],
      "text/plain": [
       "\u001b[1m Total params: \u001b[0m\u001b[38;5;34m1,342,369\u001b[0m (5.12 MB)\n"
      ]
     },
     "metadata": {},
     "output_type": "display_data"
    },
    {
     "data": {
      "text/html": [
       "<pre style=\"white-space:pre;overflow-x:auto;line-height:normal;font-family:Menlo,'DejaVu Sans Mono',consolas,'Courier New',monospace\"><span style=\"font-weight: bold\"> Trainable params: </span><span style=\"color: #00af00; text-decoration-color: #00af00\">1,342,369</span> (5.12 MB)\n",
       "</pre>\n"
      ],
      "text/plain": [
       "\u001b[1m Trainable params: \u001b[0m\u001b[38;5;34m1,342,369\u001b[0m (5.12 MB)\n"
      ]
     },
     "metadata": {},
     "output_type": "display_data"
    },
    {
     "data": {
      "text/html": [
       "<pre style=\"white-space:pre;overflow-x:auto;line-height:normal;font-family:Menlo,'DejaVu Sans Mono',consolas,'Courier New',monospace\"><span style=\"font-weight: bold\"> Non-trainable params: </span><span style=\"color: #00af00; text-decoration-color: #00af00\">0</span> (0.00 B)\n",
       "</pre>\n"
      ],
      "text/plain": [
       "\u001b[1m Non-trainable params: \u001b[0m\u001b[38;5;34m0\u001b[0m (0.00 B)\n"
      ]
     },
     "metadata": {},
     "output_type": "display_data"
    }
   ],
   "source": [
    "model = tf.keras.models.Sequential([\n",
    "    tf.keras.layers.Embedding(input_dim=10000, output_dim=128),\n",
    "    tf.keras.layers.LSTM(64, return_sequences=True),\n",
    "    tf.keras.layers.LSTM(32),\n",
    "    tf.keras.layers.Dense(16, activation='relu'),\n",
    "    tf.keras.layers.Dense(1, activation='sigmoid')\n",
    "])\n",
    "model.build(input_shape=(None, 100))\n",
    "model.summary()"
   ]
  },
  {
   "cell_type": "code",
   "execution_count": 35,
   "id": "3736bd41-7dff-4e8a-883a-154c2d9a3758",
   "metadata": {},
   "outputs": [],
   "source": [
    "model.compile(loss='binary_crossentropy', optimizer='adam', metrics=['accuracy'])"
   ]
  },
  {
   "cell_type": "code",
   "execution_count": 36,
   "id": "ecf934d4-3ed2-42aa-829c-88797842225e",
   "metadata": {},
   "outputs": [
    {
     "name": "stdout",
     "output_type": "stream",
     "text": [
      "Epoch 1/10\n",
      "\u001b[1m191/191\u001b[0m \u001b[32m━━━━━━━━━━━━━━━━━━━━\u001b[0m\u001b[37m\u001b[0m \u001b[1m16s\u001b[0m 68ms/step - accuracy: 0.6086 - loss: 0.6680 - val_accuracy: 0.6848 - val_loss: 0.5992\n",
      "Epoch 2/10\n",
      "\u001b[1m191/191\u001b[0m \u001b[32m━━━━━━━━━━━━━━━━━━━━\u001b[0m\u001b[37m\u001b[0m \u001b[1m13s\u001b[0m 67ms/step - accuracy: 0.6576 - loss: 0.6394 - val_accuracy: 0.6101 - val_loss: 0.6720\n",
      "Epoch 3/10\n",
      "\u001b[1m191/191\u001b[0m \u001b[32m━━━━━━━━━━━━━━━━━━━━\u001b[0m\u001b[37m\u001b[0m \u001b[1m13s\u001b[0m 66ms/step - accuracy: 0.6099 - loss: 0.6707 - val_accuracy: 0.6094 - val_loss: 0.6659\n",
      "Epoch 4/10\n",
      "\u001b[1m191/191\u001b[0m \u001b[32m━━━━━━━━━━━━━━━━━━━━\u001b[0m\u001b[37m\u001b[0m \u001b[1m13s\u001b[0m 67ms/step - accuracy: 0.6419 - loss: 0.6482 - val_accuracy: 0.7936 - val_loss: 0.4850\n",
      "Epoch 5/10\n",
      "\u001b[1m191/191\u001b[0m \u001b[32m━━━━━━━━━━━━━━━━━━━━\u001b[0m\u001b[37m\u001b[0m \u001b[1m13s\u001b[0m 66ms/step - accuracy: 0.8455 - loss: 0.4017 - val_accuracy: 0.8997 - val_loss: 0.2745\n",
      "Epoch 6/10\n",
      "\u001b[1m191/191\u001b[0m \u001b[32m━━━━━━━━━━━━━━━━━━━━\u001b[0m\u001b[37m\u001b[0m \u001b[1m13s\u001b[0m 65ms/step - accuracy: 0.9332 - loss: 0.2191 - val_accuracy: 0.9161 - val_loss: 0.2557\n",
      "Epoch 7/10\n",
      "\u001b[1m191/191\u001b[0m \u001b[32m━━━━━━━━━━━━━━━━━━━━\u001b[0m\u001b[37m\u001b[0m \u001b[1m13s\u001b[0m 66ms/step - accuracy: 0.9609 - loss: 0.1387 - val_accuracy: 0.9083 - val_loss: 0.2801\n",
      "Epoch 8/10\n",
      "\u001b[1m191/191\u001b[0m \u001b[32m━━━━━━━━━━━━━━━━━━━━\u001b[0m\u001b[37m\u001b[0m \u001b[1m13s\u001b[0m 67ms/step - accuracy: 0.9685 - loss: 0.1111 - val_accuracy: 0.9148 - val_loss: 0.2675\n",
      "Epoch 9/10\n",
      "\u001b[1m191/191\u001b[0m \u001b[32m━━━━━━━━━━━━━━━━━━━━\u001b[0m\u001b[37m\u001b[0m \u001b[1m13s\u001b[0m 66ms/step - accuracy: 0.9747 - loss: 0.0912 - val_accuracy: 0.9174 - val_loss: 0.3299\n",
      "Epoch 10/10\n",
      "\u001b[1m191/191\u001b[0m \u001b[32m━━━━━━━━━━━━━━━━━━━━\u001b[0m\u001b[37m\u001b[0m \u001b[1m13s\u001b[0m 66ms/step - accuracy: 0.9859 - loss: 0.0599 - val_accuracy: 0.9201 - val_loss: 0.2935\n"
     ]
    }
   ],
   "source": [
    "history = model.fit(x_train_seq, y_train, epochs=10, batch_size=32, validation_data=(x_test_seq, y_test))"
   ]
  },
  {
   "cell_type": "markdown",
   "id": "ac887947-cd65-4140-8338-2e96c08c9a08",
   "metadata": {},
   "source": [
    "### Test Accuracy"
   ]
  },
  {
   "cell_type": "code",
   "execution_count": 37,
   "id": "6fdea2c9-5d87-4eb4-b522-ebcc59eb2d3d",
   "metadata": {},
   "outputs": [
    {
     "name": "stdout",
     "output_type": "stream",
     "text": [
      "\u001b[1m48/48\u001b[0m \u001b[32m━━━━━━━━━━━━━━━━━━━━\u001b[0m\u001b[37m\u001b[0m \u001b[1m1s\u001b[0m 23ms/step - accuracy: 0.9186 - loss: 0.2861\n",
      "Test Accuracy: 0.9201\n"
     ]
    }
   ],
   "source": [
    "loss, accuracy = model.evaluate(x_test_seq, y_test)\n",
    "print(f'Test Accuracy: {accuracy:.4f}')"
   ]
  },
  {
   "cell_type": "markdown",
   "id": "acd11f96-bc72-4035-9bc3-8c018688f905",
   "metadata": {},
   "source": [
    "### Predicting on Examples"
   ]
  },
  {
   "cell_type": "code",
   "execution_count": 51,
   "id": "9a1a9b79-7620-4e56-9408-ff4491b54104",
   "metadata": {},
   "outputs": [],
   "source": [
    "def predict(text):\n",
    "    text = pad_sequences(tokenizer.texts_to_sequences([text]), maxlen=100, padding='post', truncating='post')\n",
    "    prediction = model.predict(text)\n",
    "    if prediction >= 0.5:\n",
    "        print(\"sentiment: POSITIVE\")\n",
    "    else:\n",
    "        print(\"sentiment: NEGATIVE\") "
   ]
  },
  {
   "cell_type": "code",
   "execution_count": 52,
   "id": "51a98694-5f99-4e51-b8bc-ab039e6dac04",
   "metadata": {},
   "outputs": [
    {
     "name": "stdout",
     "output_type": "stream",
     "text": [
      "\u001b[1m1/1\u001b[0m \u001b[32m━━━━━━━━━━━━━━━━━━━━\u001b[0m\u001b[37m\u001b[0m \u001b[1m0s\u001b[0m 59ms/step\n",
      "sentiment: POSITIVE\n",
      "\u001b[1m1/1\u001b[0m \u001b[32m━━━━━━━━━━━━━━━━━━━━\u001b[0m\u001b[37m\u001b[0m \u001b[1m0s\u001b[0m 55ms/step\n",
      "sentiment: POSITIVE\n",
      "\u001b[1m1/1\u001b[0m \u001b[32m━━━━━━━━━━━━━━━━━━━━\u001b[0m\u001b[37m\u001b[0m \u001b[1m0s\u001b[0m 62ms/step\n",
      "sentiment: NEGATIVE\n"
     ]
    }
   ],
   "source": [
    "predict(\"This product is good!\")\n",
    "predict(\"It's okay, but not great.\")\n",
    "predict(\"Worst experience ever. Do not buy!\")"
   ]
  },
  {
   "cell_type": "markdown",
   "id": "3f1b40bd-36e0-4d95-a304-6237cff93613",
   "metadata": {},
   "source": [
    "## Building GRU model"
   ]
  },
  {
   "cell_type": "code",
   "execution_count": 53,
   "id": "6cd7454b-5de0-47b2-803e-36c80558397e",
   "metadata": {},
   "outputs": [
    {
     "data": {
      "text/html": [
       "<pre style=\"white-space:pre;overflow-x:auto;line-height:normal;font-family:Menlo,'DejaVu Sans Mono',consolas,'Courier New',monospace\"><span style=\"font-weight: bold\">Model: \"sequential_1\"</span>\n",
       "</pre>\n"
      ],
      "text/plain": [
       "\u001b[1mModel: \"sequential_1\"\u001b[0m\n"
      ]
     },
     "metadata": {},
     "output_type": "display_data"
    },
    {
     "data": {
      "text/html": [
       "<pre style=\"white-space:pre;overflow-x:auto;line-height:normal;font-family:Menlo,'DejaVu Sans Mono',consolas,'Courier New',monospace\">┏━━━━━━━━━━━━━━━━━━━━━━━━━━━━━━━━━━━━━━┳━━━━━━━━━━━━━━━━━━━━━━━━━━━━━┳━━━━━━━━━━━━━━━━━┓\n",
       "┃<span style=\"font-weight: bold\"> Layer (type)                         </span>┃<span style=\"font-weight: bold\"> Output Shape                </span>┃<span style=\"font-weight: bold\">         Param # </span>┃\n",
       "┡━━━━━━━━━━━━━━━━━━━━━━━━━━━━━━━━━━━━━━╇━━━━━━━━━━━━━━━━━━━━━━━━━━━━━╇━━━━━━━━━━━━━━━━━┩\n",
       "│ embedding_1 (<span style=\"color: #0087ff; text-decoration-color: #0087ff\">Embedding</span>)              │ (<span style=\"color: #00d7ff; text-decoration-color: #00d7ff\">None</span>, <span style=\"color: #00af00; text-decoration-color: #00af00\">100</span>, <span style=\"color: #00af00; text-decoration-color: #00af00\">128</span>)            │       <span style=\"color: #00af00; text-decoration-color: #00af00\">1,280,000</span> │\n",
       "├──────────────────────────────────────┼─────────────────────────────┼─────────────────┤\n",
       "│ gru (<span style=\"color: #0087ff; text-decoration-color: #0087ff\">GRU</span>)                            │ (<span style=\"color: #00d7ff; text-decoration-color: #00d7ff\">None</span>, <span style=\"color: #00af00; text-decoration-color: #00af00\">100</span>, <span style=\"color: #00af00; text-decoration-color: #00af00\">64</span>)             │          <span style=\"color: #00af00; text-decoration-color: #00af00\">37,248</span> │\n",
       "├──────────────────────────────────────┼─────────────────────────────┼─────────────────┤\n",
       "│ gru_1 (<span style=\"color: #0087ff; text-decoration-color: #0087ff\">GRU</span>)                          │ (<span style=\"color: #00d7ff; text-decoration-color: #00d7ff\">None</span>, <span style=\"color: #00af00; text-decoration-color: #00af00\">32</span>)                  │           <span style=\"color: #00af00; text-decoration-color: #00af00\">9,408</span> │\n",
       "├──────────────────────────────────────┼─────────────────────────────┼─────────────────┤\n",
       "│ dense_2 (<span style=\"color: #0087ff; text-decoration-color: #0087ff\">Dense</span>)                      │ (<span style=\"color: #00d7ff; text-decoration-color: #00d7ff\">None</span>, <span style=\"color: #00af00; text-decoration-color: #00af00\">16</span>)                  │             <span style=\"color: #00af00; text-decoration-color: #00af00\">528</span> │\n",
       "├──────────────────────────────────────┼─────────────────────────────┼─────────────────┤\n",
       "│ dense_3 (<span style=\"color: #0087ff; text-decoration-color: #0087ff\">Dense</span>)                      │ (<span style=\"color: #00d7ff; text-decoration-color: #00d7ff\">None</span>, <span style=\"color: #00af00; text-decoration-color: #00af00\">1</span>)                   │              <span style=\"color: #00af00; text-decoration-color: #00af00\">17</span> │\n",
       "└──────────────────────────────────────┴─────────────────────────────┴─────────────────┘\n",
       "</pre>\n"
      ],
      "text/plain": [
       "┏━━━━━━━━━━━━━━━━━━━━━━━━━━━━━━━━━━━━━━┳━━━━━━━━━━━━━━━━━━━━━━━━━━━━━┳━━━━━━━━━━━━━━━━━┓\n",
       "┃\u001b[1m \u001b[0m\u001b[1mLayer (type)                        \u001b[0m\u001b[1m \u001b[0m┃\u001b[1m \u001b[0m\u001b[1mOutput Shape               \u001b[0m\u001b[1m \u001b[0m┃\u001b[1m \u001b[0m\u001b[1m        Param #\u001b[0m\u001b[1m \u001b[0m┃\n",
       "┡━━━━━━━━━━━━━━━━━━━━━━━━━━━━━━━━━━━━━━╇━━━━━━━━━━━━━━━━━━━━━━━━━━━━━╇━━━━━━━━━━━━━━━━━┩\n",
       "│ embedding_1 (\u001b[38;5;33mEmbedding\u001b[0m)              │ (\u001b[38;5;45mNone\u001b[0m, \u001b[38;5;34m100\u001b[0m, \u001b[38;5;34m128\u001b[0m)            │       \u001b[38;5;34m1,280,000\u001b[0m │\n",
       "├──────────────────────────────────────┼─────────────────────────────┼─────────────────┤\n",
       "│ gru (\u001b[38;5;33mGRU\u001b[0m)                            │ (\u001b[38;5;45mNone\u001b[0m, \u001b[38;5;34m100\u001b[0m, \u001b[38;5;34m64\u001b[0m)             │          \u001b[38;5;34m37,248\u001b[0m │\n",
       "├──────────────────────────────────────┼─────────────────────────────┼─────────────────┤\n",
       "│ gru_1 (\u001b[38;5;33mGRU\u001b[0m)                          │ (\u001b[38;5;45mNone\u001b[0m, \u001b[38;5;34m32\u001b[0m)                  │           \u001b[38;5;34m9,408\u001b[0m │\n",
       "├──────────────────────────────────────┼─────────────────────────────┼─────────────────┤\n",
       "│ dense_2 (\u001b[38;5;33mDense\u001b[0m)                      │ (\u001b[38;5;45mNone\u001b[0m, \u001b[38;5;34m16\u001b[0m)                  │             \u001b[38;5;34m528\u001b[0m │\n",
       "├──────────────────────────────────────┼─────────────────────────────┼─────────────────┤\n",
       "│ dense_3 (\u001b[38;5;33mDense\u001b[0m)                      │ (\u001b[38;5;45mNone\u001b[0m, \u001b[38;5;34m1\u001b[0m)                   │              \u001b[38;5;34m17\u001b[0m │\n",
       "└──────────────────────────────────────┴─────────────────────────────┴─────────────────┘\n"
      ]
     },
     "metadata": {},
     "output_type": "display_data"
    },
    {
     "data": {
      "text/html": [
       "<pre style=\"white-space:pre;overflow-x:auto;line-height:normal;font-family:Menlo,'DejaVu Sans Mono',consolas,'Courier New',monospace\"><span style=\"font-weight: bold\"> Total params: </span><span style=\"color: #00af00; text-decoration-color: #00af00\">1,327,201</span> (5.06 MB)\n",
       "</pre>\n"
      ],
      "text/plain": [
       "\u001b[1m Total params: \u001b[0m\u001b[38;5;34m1,327,201\u001b[0m (5.06 MB)\n"
      ]
     },
     "metadata": {},
     "output_type": "display_data"
    },
    {
     "data": {
      "text/html": [
       "<pre style=\"white-space:pre;overflow-x:auto;line-height:normal;font-family:Menlo,'DejaVu Sans Mono',consolas,'Courier New',monospace\"><span style=\"font-weight: bold\"> Trainable params: </span><span style=\"color: #00af00; text-decoration-color: #00af00\">1,327,201</span> (5.06 MB)\n",
       "</pre>\n"
      ],
      "text/plain": [
       "\u001b[1m Trainable params: \u001b[0m\u001b[38;5;34m1,327,201\u001b[0m (5.06 MB)\n"
      ]
     },
     "metadata": {},
     "output_type": "display_data"
    },
    {
     "data": {
      "text/html": [
       "<pre style=\"white-space:pre;overflow-x:auto;line-height:normal;font-family:Menlo,'DejaVu Sans Mono',consolas,'Courier New',monospace\"><span style=\"font-weight: bold\"> Non-trainable params: </span><span style=\"color: #00af00; text-decoration-color: #00af00\">0</span> (0.00 B)\n",
       "</pre>\n"
      ],
      "text/plain": [
       "\u001b[1m Non-trainable params: \u001b[0m\u001b[38;5;34m0\u001b[0m (0.00 B)\n"
      ]
     },
     "metadata": {},
     "output_type": "display_data"
    }
   ],
   "source": [
    "model_GRU = tf.keras.models.Sequential([\n",
    "    tf.keras.layers.Embedding(input_dim=10000, output_dim=128),\n",
    "    tf.keras.layers.GRU(64, return_sequences=True),\n",
    "    tf.keras.layers.GRU(32),\n",
    "    tf.keras.layers.Dense(16, activation='relu'),\n",
    "    tf.keras.layers.Dense(1, activation='sigmoid')\n",
    "])\n",
    "model_GRU.build(input_shape=(None, 100))\n",
    "model_GRU.summary()"
   ]
  },
  {
   "cell_type": "code",
   "execution_count": 54,
   "id": "cb189dd3-0fd6-4091-8df5-2f3d4566ac90",
   "metadata": {},
   "outputs": [],
   "source": [
    "model_GRU.compile(loss='binary_crossentropy', optimizer='adam', metrics=['accuracy'])"
   ]
  },
  {
   "cell_type": "code",
   "execution_count": 55,
   "id": "1dd7b733-aa0b-451f-ac18-cad1ef0ba7c4",
   "metadata": {},
   "outputs": [
    {
     "name": "stdout",
     "output_type": "stream",
     "text": [
      "Epoch 1/10\n",
      "\u001b[1m191/191\u001b[0m \u001b[32m━━━━━━━━━━━━━━━━━━━━\u001b[0m\u001b[37m\u001b[0m \u001b[1m19s\u001b[0m 79ms/step - accuracy: 0.6116 - loss: 0.6709 - val_accuracy: 0.6494 - val_loss: 0.6379\n",
      "Epoch 2/10\n",
      "\u001b[1m191/191\u001b[0m \u001b[32m━━━━━━━━━━━━━━━━━━━━\u001b[0m\u001b[37m\u001b[0m \u001b[1m16s\u001b[0m 81ms/step - accuracy: 0.6563 - loss: 0.6625 - val_accuracy: 0.6573 - val_loss: 0.6180\n",
      "Epoch 3/10\n",
      "\u001b[1m191/191\u001b[0m \u001b[32m━━━━━━━━━━━━━━━━━━━━\u001b[0m\u001b[37m\u001b[0m \u001b[1m16s\u001b[0m 82ms/step - accuracy: 0.6433 - loss: 0.6576 - val_accuracy: 0.6547 - val_loss: 0.6082\n",
      "Epoch 4/10\n",
      "\u001b[1m191/191\u001b[0m \u001b[32m━━━━━━━━━━━━━━━━━━━━\u001b[0m\u001b[37m\u001b[0m \u001b[1m14s\u001b[0m 75ms/step - accuracy: 0.7800 - loss: 0.4769 - val_accuracy: 0.8899 - val_loss: 0.2902\n",
      "Epoch 5/10\n",
      "\u001b[1m191/191\u001b[0m \u001b[32m━━━━━━━━━━━━━━━━━━━━\u001b[0m\u001b[37m\u001b[0m \u001b[1m15s\u001b[0m 76ms/step - accuracy: 0.9454 - loss: 0.1782 - val_accuracy: 0.9037 - val_loss: 0.2700\n",
      "Epoch 6/10\n",
      "\u001b[1m191/191\u001b[0m \u001b[32m━━━━━━━━━━━━━━━━━━━━\u001b[0m\u001b[37m\u001b[0m \u001b[1m15s\u001b[0m 77ms/step - accuracy: 0.9674 - loss: 0.1126 - val_accuracy: 0.9135 - val_loss: 0.2462\n",
      "Epoch 7/10\n",
      "\u001b[1m191/191\u001b[0m \u001b[32m━━━━━━━━━━━━━━━━━━━━\u001b[0m\u001b[37m\u001b[0m \u001b[1m15s\u001b[0m 79ms/step - accuracy: 0.9826 - loss: 0.0684 - val_accuracy: 0.9201 - val_loss: 0.2620\n",
      "Epoch 8/10\n",
      "\u001b[1m191/191\u001b[0m \u001b[32m━━━━━━━━━━━━━━━━━━━━\u001b[0m\u001b[37m\u001b[0m \u001b[1m15s\u001b[0m 76ms/step - accuracy: 0.9868 - loss: 0.0482 - val_accuracy: 0.9266 - val_loss: 0.2818\n",
      "Epoch 9/10\n",
      "\u001b[1m191/191\u001b[0m \u001b[32m━━━━━━━━━━━━━━━━━━━━\u001b[0m\u001b[37m\u001b[0m \u001b[1m15s\u001b[0m 79ms/step - accuracy: 0.9900 - loss: 0.0431 - val_accuracy: 0.9096 - val_loss: 0.3669\n",
      "Epoch 10/10\n",
      "\u001b[1m191/191\u001b[0m \u001b[32m━━━━━━━━━━━━━━━━━━━━\u001b[0m\u001b[37m\u001b[0m \u001b[1m14s\u001b[0m 76ms/step - accuracy: 0.9886 - loss: 0.0426 - val_accuracy: 0.9168 - val_loss: 0.3339\n"
     ]
    }
   ],
   "source": [
    "history_GRU = model_GRU.fit(x_train_seq, y_train, epochs=10, batch_size=32, validation_data=(x_test_seq, y_test))"
   ]
  },
  {
   "cell_type": "markdown",
   "id": "62be4c46-2f8b-45bf-bdd2-94b94feabe12",
   "metadata": {},
   "source": [
    "### Test Accuracy"
   ]
  },
  {
   "cell_type": "code",
   "execution_count": 59,
   "id": "a018962e-745e-4ce6-a127-f693602a8210",
   "metadata": {},
   "outputs": [
    {
     "name": "stdout",
     "output_type": "stream",
     "text": [
      "\u001b[1m48/48\u001b[0m \u001b[32m━━━━━━━━━━━━━━━━━━━━\u001b[0m\u001b[37m\u001b[0m \u001b[1m1s\u001b[0m 22ms/step - accuracy: 0.9123 - loss: 0.3235\n",
      "Test Accuracy: 0.9168\n"
     ]
    }
   ],
   "source": [
    "loss, accuracy = model_GRU.evaluate(x_test_seq, y_test)\n",
    "print(f'Test Accuracy: {accuracy:.4f}')"
   ]
  },
  {
   "cell_type": "markdown",
   "id": "0e3af7d1-a28b-42e3-84fc-d37b97bcc322",
   "metadata": {},
   "source": [
    "### Predicting on Examples"
   ]
  },
  {
   "cell_type": "code",
   "execution_count": 60,
   "id": "b8175247-aed5-4b46-8bef-b30b94933db3",
   "metadata": {},
   "outputs": [],
   "source": [
    "def predict_gru(text):\n",
    "    text = pad_sequences(tokenizer.texts_to_sequences([text]), maxlen=100, padding='post', truncating='post')\n",
    "    prediction = model_GRU.predict(text)\n",
    "    if prediction >= 0.5:\n",
    "        print(\"sentiment: POSITIVE\")\n",
    "    else:\n",
    "        print(\"sentiment: NEGATIVE\") "
   ]
  },
  {
   "cell_type": "code",
   "execution_count": 67,
   "id": "25c2b9d7-5195-4d7d-82af-1efc92b65898",
   "metadata": {},
   "outputs": [
    {
     "name": "stdout",
     "output_type": "stream",
     "text": [
      "\u001b[1m1/1\u001b[0m \u001b[32m━━━━━━━━━━━━━━━━━━━━\u001b[0m\u001b[37m\u001b[0m \u001b[1m0s\u001b[0m 72ms/step\n",
      "sentiment: POSITIVE\n",
      "\u001b[1m1/1\u001b[0m \u001b[32m━━━━━━━━━━━━━━━━━━━━\u001b[0m\u001b[37m\u001b[0m \u001b[1m0s\u001b[0m 66ms/step\n",
      "sentiment: POSITIVE\n",
      "\u001b[1m1/1\u001b[0m \u001b[32m━━━━━━━━━━━━━━━━━━━━\u001b[0m\u001b[37m\u001b[0m \u001b[1m0s\u001b[0m 69ms/step\n",
      "sentiment: NEGATIVE\n",
      "\u001b[1m1/1\u001b[0m \u001b[32m━━━━━━━━━━━━━━━━━━━━\u001b[0m\u001b[37m\u001b[0m \u001b[1m0s\u001b[0m 65ms/step\n",
      "sentiment: NEGATIVE\n"
     ]
    }
   ],
   "source": [
    "predict_gru(\"I like this product. It offers so many various colors\")\n",
    "predict_gru(\"This product is not too great but its better than most of the products\")\n",
    "predict_gru(\"Worst experience ever. Do not buy!\")\n",
    "predict_gru(\"Waste of money\")"
   ]
  },
  {
   "cell_type": "markdown",
   "id": "7ae67cc4-64e8-4611-b7e6-e577ca2b2162",
   "metadata": {},
   "source": [
    "### End of notebook"
   ]
  }
 ],
 "metadata": {
  "kernelspec": {
   "display_name": "Python 3 (ipykernel)",
   "language": "python",
   "name": "python3"
  },
  "language_info": {
   "codemirror_mode": {
    "name": "ipython",
    "version": 3
   },
   "file_extension": ".py",
   "mimetype": "text/x-python",
   "name": "python",
   "nbconvert_exporter": "python",
   "pygments_lexer": "ipython3",
   "version": "3.12.8"
  }
 },
 "nbformat": 4,
 "nbformat_minor": 5
}
